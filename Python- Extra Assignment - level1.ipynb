{
 "cells": [
  {
   "cell_type": "code",
   "execution_count": 30,
   "id": "f5b7bd9a",
   "metadata": {},
   "outputs": [],
   "source": [
    "#print Statement"
   ]
  },
  {
   "cell_type": "code",
   "execution_count": 2,
   "id": "509a0926",
   "metadata": {},
   "outputs": [
    {
     "name": "stdout",
     "output_type": "stream",
     "text": [
      "HOPE AI\n"
     ]
    }
   ],
   "source": [
    "print(\"HOPE AI\")"
   ]
  },
  {
   "cell_type": "code",
   "execution_count": 1,
   "id": "1d67f90b",
   "metadata": {},
   "outputs": [
    {
     "name": "stdout",
     "output_type": "stream",
     "text": [
      "Enter your institute name? :HOPE AI\n"
     ]
    }
   ],
   "source": [
    "instituteName = input(\"Enter your institute name? :\")\n"
   ]
  },
  {
   "cell_type": "code",
   "execution_count": 2,
   "id": "a623d467",
   "metadata": {},
   "outputs": [
    {
     "name": "stdout",
     "output_type": "stream",
     "text": [
      "Enter your name:Raj\n",
      "Enter your age:15\n",
      "Enter your school name :Guru School\n",
      "Enter your degree :B.E CSE\n"
     ]
    }
   ],
   "source": [
    "name = input(\"Enter your name:\")\n",
    "age =  input(\"Enter your age:\")\n",
    "schoolName =  input(\"Enter your school name :\")             \n",
    "degree= input(\"Enter your degree :\")            \n",
    "   \n",
    "             "
   ]
  },
  {
   "cell_type": "code",
   "execution_count": 10,
   "id": "86722b7b",
   "metadata": {},
   "outputs": [],
   "source": [
    "#Addition"
   ]
  },
  {
   "cell_type": "code",
   "execution_count": 4,
   "id": "5959a63d",
   "metadata": {},
   "outputs": [
    {
     "name": "stdout",
     "output_type": "stream",
     "text": [
      " a = 43\n",
      " b = 34\n",
      "add= 77\n"
     ]
    }
   ],
   "source": [
    "a=43\n",
    "b=34\n",
    "add =a+b\n",
    "\n",
    "print(\" a =\",a)\n",
    "print(\" b =\",b)\n",
    "print(\"add=\",add)"
   ]
  },
  {
   "cell_type": "code",
   "execution_count": 14,
   "id": "998c3e08",
   "metadata": {},
   "outputs": [],
   "source": [
    "#Subtraction"
   ]
  },
  {
   "cell_type": "code",
   "execution_count": 5,
   "id": "68d684be",
   "metadata": {},
   "outputs": [
    {
     "name": "stdout",
     "output_type": "stream",
     "text": [
      " a = 43\n",
      " b = 34\n",
      "Sub= 9\n"
     ]
    }
   ],
   "source": [
    "a=43\n",
    "b=34\n",
    "sub =a-b\n",
    "print(\" a =\",a)\n",
    "print(\" b =\",b)\n",
    "print(\"Sub=\",sub)"
   ]
  },
  {
   "cell_type": "code",
   "execution_count": 18,
   "id": "45543aef",
   "metadata": {},
   "outputs": [],
   "source": [
    "#Multiplication"
   ]
  },
  {
   "cell_type": "code",
   "execution_count": 6,
   "id": "6136fe63",
   "metadata": {},
   "outputs": [
    {
     "name": "stdout",
     "output_type": "stream",
     "text": [
      " a = 63\n",
      " b = 97\n",
      "Mul= 6111\n"
     ]
    }
   ],
   "source": [
    "a= 63\n",
    "b= 97\n",
    "mul = a*b\n",
    "print(\" a =\",a)\n",
    "print(\" b =\",b)\n",
    "print(\"Mul=\",mul)\n"
   ]
  },
  {
   "cell_type": "code",
   "execution_count": 20,
   "id": "12d9a8a8",
   "metadata": {},
   "outputs": [],
   "source": [
    "#Division"
   ]
  },
  {
   "cell_type": "code",
   "execution_count": 21,
   "id": "9e535f5e",
   "metadata": {},
   "outputs": [
    {
     "name": "stdout",
     "output_type": "stream",
     "text": [
      " a = 76\n",
      " b = 31\n",
      "Float Div= 2.4516129032258065\n"
     ]
    }
   ],
   "source": [
    "a= 76\n",
    "b= 31\n",
    "division = a/b\n",
    "print(\" a =\",a)\n",
    "print(\" b =\",b)\n",
    "print(\"Float Div=\",division)\n"
   ]
  },
  {
   "cell_type": "code",
   "execution_count": 22,
   "id": "dc7f6a38",
   "metadata": {},
   "outputs": [],
   "source": [
    "#Floor division"
   ]
  },
  {
   "cell_type": "code",
   "execution_count": 7,
   "id": "14fa0144",
   "metadata": {},
   "outputs": [
    {
     "name": "stdout",
     "output_type": "stream",
     "text": [
      " a = 76\n",
      " b = 31\n",
      "Floor Div= 2\n"
     ]
    }
   ],
   "source": [
    "a= 76\n",
    "b= 31\n",
    "floor_div = a//b\n",
    "\n",
    "print(\" a =\",a)\n",
    "print(\" b =\",b)\n",
    "print(\"Floor Div=\",floor_div)\n"
   ]
  },
  {
   "cell_type": "code",
   "execution_count": 24,
   "id": "b1f42d08",
   "metadata": {},
   "outputs": [],
   "source": [
    "#Modulo"
   ]
  },
  {
   "cell_type": "code",
   "execution_count": 8,
   "id": "041e373c",
   "metadata": {},
   "outputs": [
    {
     "name": "stdout",
     "output_type": "stream",
     "text": [
      " a = 76\n",
      " b = 31\n",
      "Modulo= 14\n"
     ]
    }
   ],
   "source": [
    "a= 76\n",
    "b= 31\n",
    "modulo = a%b\n",
    "\n",
    "print(\" a =\",a)\n",
    "print(\" b =\",b)\n",
    "print(\"Modulo=\",modulo)\n"
   ]
  },
  {
   "cell_type": "code",
   "execution_count": 26,
   "id": "725a0760",
   "metadata": {},
   "outputs": [],
   "source": [
    "#Power"
   ]
  },
  {
   "cell_type": "code",
   "execution_count": 9,
   "id": "110578a4",
   "metadata": {},
   "outputs": [
    {
     "name": "stdout",
     "output_type": "stream",
     "text": [
      " a = 4\n",
      " b = 4\n",
      "Power= 256\n"
     ]
    }
   ],
   "source": [
    "a= 4\n",
    "b= 4\n",
    "power = a**b\n",
    "print(\" a =\",a)\n",
    "print(\" b =\",b)\n",
    "print(\"Power=\",power)\n"
   ]
  },
  {
   "cell_type": "code",
   "execution_count": null,
   "id": "53284373",
   "metadata": {},
   "outputs": [],
   "source": []
  }
 ],
 "metadata": {
  "kernelspec": {
   "display_name": "Python 3",
   "language": "python",
   "name": "python3"
  },
  "language_info": {
   "codemirror_mode": {
    "name": "ipython",
    "version": 3
   },
   "file_extension": ".py",
   "mimetype": "text/x-python",
   "name": "python",
   "nbconvert_exporter": "python",
   "pygments_lexer": "ipython3",
   "version": "3.8.8"
  }
 },
 "nbformat": 4,
 "nbformat_minor": 5
}
