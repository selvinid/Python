{
 "cells": [
  {
   "cell_type": "code",
   "execution_count": 1,
   "id": "14a4f50a",
   "metadata": {},
   "outputs": [],
   "source": [
    "#print Statement"
   ]
  },
  {
   "cell_type": "code",
   "execution_count": 2,
   "id": "4ac3426e",
   "metadata": {},
   "outputs": [
    {
     "name": "stdout",
     "output_type": "stream",
     "text": [
      "HOPE AI\n"
     ]
    }
   ],
   "source": [
    "print(\"HOPE AI\")"
   ]
  },
  {
   "cell_type": "code",
   "execution_count": 5,
   "id": "f840634e",
   "metadata": {},
   "outputs": [
    {
     "name": "stdout",
     "output_type": "stream",
     "text": [
      "Enter your institute name? :HOPE AI\n",
      "HOPE AI\n"
     ]
    }
   ],
   "source": [
    "instituteName = print(input(\"Enter your institute name? :\"))\n"
   ]
  },
  {
   "cell_type": "code",
   "execution_count": 9,
   "id": "11102ae9",
   "metadata": {},
   "outputs": [
    {
     "name": "stdout",
     "output_type": "stream",
     "text": [
      "Enter your name:Raj\n",
      "Raj\n",
      "Enter your age:15\n",
      "15\n",
      "Enter your school name :Guru school\n",
      "Guru school\n",
      "Enter your degree :B.E CSE\n",
      "B.E CSE\n"
     ]
    }
   ],
   "source": [
    "name = print(input(\"Enter your name:\"))\n",
    "age = print(input(\"Enter your age:\"))\n",
    "schoolName = print(input(\"Enter your school name :\"))             \n",
    "degree=print(input(\"Enter your degree :\"))            \n",
    "   \n",
    "             "
   ]
  },
  {
   "cell_type": "code",
   "execution_count": 10,
   "id": "3b7f982b",
   "metadata": {},
   "outputs": [],
   "source": [
    "#Addition"
   ]
  },
  {
   "cell_type": "code",
   "execution_count": 13,
   "id": "99f8ae6d",
   "metadata": {},
   "outputs": [
    {
     "name": "stdout",
     "output_type": "stream",
     "text": [
      " a = 43\n",
      " b = 34\n",
      "add= 77\n"
     ]
    }
   ],
   "source": [
    "a=43\n",
    "b=34\n",
    "add =a+b\n",
    "\n",
    "print(\" a =\",a)\n",
    "print(\" b =\",b)\n",
    "print(\"add=\",add)"
   ]
  },
  {
   "cell_type": "code",
   "execution_count": 14,
   "id": "7b60facd",
   "metadata": {},
   "outputs": [],
   "source": [
    "#Subtraction"
   ]
  },
  {
   "cell_type": "code",
   "execution_count": 17,
   "id": "0eecaac3",
   "metadata": {},
   "outputs": [
    {
     "name": "stdout",
     "output_type": "stream",
     "text": [
      " a = 43\n",
      " b = 34\n",
      "Sub= 9\n"
     ]
    }
   ],
   "source": [
    "a=43\n",
    "b=34\n",
    "sub =a-b\n",
    "print(\" a =\",a)\n",
    "print(\" b =\",b)\n",
    "print(\"Sub=\",sub)"
   ]
  },
  {
   "cell_type": "code",
   "execution_count": 18,
   "id": "1c5d6758",
   "metadata": {},
   "outputs": [],
   "source": [
    "#Multiplication"
   ]
  },
  {
   "cell_type": "code",
   "execution_count": 19,
   "id": "6eabce8b",
   "metadata": {},
   "outputs": [
    {
     "name": "stdout",
     "output_type": "stream",
     "text": [
      " a = 63\n",
      " b = 97\n",
      "Mul= 6111\n"
     ]
    }
   ],
   "source": [
    "a= 63\n",
    "b= 97\n",
    "mul = a*b\n",
    "print(\" a =\",a)\n",
    "print(\" b =\",b)\n",
    "print(\"Mul=\",mul)\n"
   ]
  },
  {
   "cell_type": "code",
   "execution_count": 20,
   "id": "fa051c1c",
   "metadata": {},
   "outputs": [],
   "source": [
    "#Division"
   ]
  },
  {
   "cell_type": "code",
   "execution_count": 21,
   "id": "9b26d701",
   "metadata": {},
   "outputs": [
    {
     "name": "stdout",
     "output_type": "stream",
     "text": [
      " a = 76\n",
      " b = 31\n",
      "Float Div= 2.4516129032258065\n"
     ]
    }
   ],
   "source": [
    "a= 76\n",
    "b= 31\n",
    "division = a/b\n",
    "print(\" a =\",a)\n",
    "print(\" b =\",b)\n",
    "print(\"Float Div=\",division)\n"
   ]
  },
  {
   "cell_type": "code",
   "execution_count": 22,
   "id": "ea77335d",
   "metadata": {},
   "outputs": [],
   "source": [
    "#Floor division"
   ]
  },
  {
   "cell_type": "code",
   "execution_count": 23,
   "id": "68b471ec",
   "metadata": {},
   "outputs": [
    {
     "name": "stdout",
     "output_type": "stream",
     "text": [
      " a = 76\n",
      " b = 31\n",
      "Floor Div= 2\n"
     ]
    }
   ],
   "source": [
    "a= 76\n",
    "b= 31\n",
    "floor_div = a//b\n",
    "\n",
    "print(\" a =\",a)\n",
    "print(\" b =\",b)\n",
    "print(\"Floor Div=\",floor_div)\n"
   ]
  },
  {
   "cell_type": "code",
   "execution_count": 24,
   "id": "19ffd766",
   "metadata": {},
   "outputs": [],
   "source": [
    "#Modulo"
   ]
  },
  {
   "cell_type": "code",
   "execution_count": 25,
   "id": "a1e57372",
   "metadata": {},
   "outputs": [
    {
     "name": "stdout",
     "output_type": "stream",
     "text": [
      " a = 76\n",
      " b = 31\n",
      "Modulo= 14\n"
     ]
    }
   ],
   "source": [
    "a= 76\n",
    "b= 31\n",
    "modulo = a%b\n",
    "\n",
    "print(\" a =\",a)\n",
    "print(\" b =\",b)\n",
    "print(\"Modulo=\",modulo)\n"
   ]
  },
  {
   "cell_type": "code",
   "execution_count": 26,
   "id": "60960dd4",
   "metadata": {},
   "outputs": [],
   "source": [
    "#Power"
   ]
  },
  {
   "cell_type": "code",
   "execution_count": null,
   "id": "9c853ca2",
   "metadata": {},
   "outputs": [],
   "source": [
    "a= 4\n",
    "b= 4\n",
    "power =\n",
    "print(\" a =\",a)\n",
    "print(\" b =\",b)\n",
    "print(\"Power=\",modulo)\n",
    "\n",
    " = 256"
   ]
  }
 ],
 "metadata": {
  "kernelspec": {
   "display_name": "Python 3",
   "language": "python",
   "name": "python3"
  },
  "language_info": {
   "codemirror_mode": {
    "name": "ipython",
    "version": 3
   },
   "file_extension": ".py",
   "mimetype": "text/x-python",
   "name": "python",
   "nbconvert_exporter": "python",
   "pygments_lexer": "ipython3",
   "version": "3.8.8"
  }
 },
 "nbformat": 4,
 "nbformat_minor": 5
}
