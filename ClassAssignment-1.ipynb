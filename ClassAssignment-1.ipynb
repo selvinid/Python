{
 "cells": [
  {
   "cell_type": "code",
   "execution_count": 36,
   "id": "745213ab",
   "metadata": {},
   "outputs": [],
   "source": [
    "# Create a class and function, and list out the items in the list"
   ]
  },
  {
   "cell_type": "code",
   "execution_count": 1,
   "id": "17f00651",
   "metadata": {},
   "outputs": [
    {
     "name": "stdout",
     "output_type": "stream",
     "text": [
      "Sub-fields in AI are:\n",
      "Machine Learning\n",
      "Neural Networks\n",
      "Vision\n",
      "Robotics\n",
      "Speech Processing\n",
      "Natural Language Processing\n"
     ]
    }
   ],
   "source": [
    "from  SubfieldsInAI import SubfieldsInAI  \n",
    "\n",
    "aiNamelist=['Machine Learning','Neural Networks','Vision','Robotics','Speech Processing','Natural Language Processing']\n",
    "print('Sub-fields in AI are:')\n",
    "SubfieldsInAI.Subfields(aiNamelist)"
   ]
  },
  {
   "cell_type": "code",
   "execution_count": 37,
   "id": "30fc6879",
   "metadata": {},
   "outputs": [],
   "source": [
    "# Create a function that checks whether the given number is Odd or Even"
   ]
  },
  {
   "cell_type": "code",
   "execution_count": 2,
   "id": "f06f95f1",
   "metadata": {},
   "outputs": [
    {
     "name": "stdout",
     "output_type": "stream",
     "text": [
      "Enter a number :52452\n",
      "52452 is Even number\n"
     ]
    }
   ],
   "source": [
    "from OddEven import OddEven\n",
    "\n",
    "num = int(input(\"Enter a number :\"))\n",
    "evenorOdd=OddEven.isOddEven(num)\n",
    "if('even'==evenorOdd):\n",
    "    print(f'{num} is Even number')\n",
    "else:\n",
    "    print(f'{num} is Odd number')\n",
    "        \n",
    "       "
   ]
  },
  {
   "cell_type": "code",
   "execution_count": 38,
   "id": "bb11d0db",
   "metadata": {},
   "outputs": [],
   "source": [
    "# Create a function that tells elegibility of marriage for male and\n",
    "#female according to their age limit like 21 for male and 18 for female"
   ]
  },
  {
   "cell_type": "code",
   "execution_count": 3,
   "id": "a98f5afc",
   "metadata": {},
   "outputs": [
    {
     "name": "stdout",
     "output_type": "stream",
     "text": [
      "Your Gender :Male\n",
      "Your Age :20\n",
      "NOT ELIGIBLE\n"
     ]
    }
   ],
   "source": [
    "from EligiblityForMarriage import EligiblityForMarriage\n",
    "\n",
    "gender = input('Your Gender :')\n",
    "age = int(input('Your Age :'))\n",
    "isEligible = EligiblityForMarriage.Eligible(gender,age)\n",
    "if (\"eligible\"==isEligible):\n",
    "    print(\"ELIGIBLE\")\n",
    "else:\n",
    "     print(\"NOT ELIGIBLE\")"
   ]
  },
  {
   "cell_type": "code",
   "execution_count": 40,
   "id": "ab137d83",
   "metadata": {},
   "outputs": [],
   "source": [
    "# calculate the percentage of your 10th mark"
   ]
  },
  {
   "cell_type": "code",
   "execution_count": 1,
   "id": "2d630a00",
   "metadata": {},
   "outputs": [
    {
     "name": "stdout",
     "output_type": "stream",
     "text": [
      "Subject1= 98\n",
      "Subject2= 87\n",
      "Subject3= 95\n",
      "Subject4= 95\n",
      "Subject15= 93\n",
      "Total : 468\n",
      "Percentage :  93.60000000000001\n"
     ]
    }
   ],
   "source": [
    "from FindPercent import FindPercent\n",
    "\n",
    "subject1 = int(input('Subject1= '))\n",
    "subject2 = int(input('Subject2= '))\n",
    "subject3 = int(input('Subject3= '))\n",
    "subject4 = int(input('Subject4= '))\n",
    "subject5 = int(input('Subject15= '))\n",
    "total = subject1+subject2+subject3+subject4+subject5\n",
    "print(\"Total :\",total)\n",
    "percent = FindPercent.percentage(total,500)\n",
    "print(\"Percentage : \",percent)"
   ]
  },
  {
   "cell_type": "code",
   "execution_count": 2,
   "id": "7b8735c2",
   "metadata": {},
   "outputs": [],
   "source": [
    "#print area and perimeter of triangle using class and functions"
   ]
  },
  {
   "cell_type": "code",
   "execution_count": 3,
   "id": "b675eb5c",
   "metadata": {},
   "outputs": [
    {
     "name": "stdout",
     "output_type": "stream",
     "text": [
      "Height : 32\n",
      "Breadth : 34\n",
      "Area formula: (Height*Breadth)/2\n",
      "Area of Triangle: 544.0\n",
      "Height1 : 2\n",
      "Height2 : 4\n",
      "Breadth : 4\n",
      "Perimeter formula: Height1+Height2+Breadth\n",
      "Perimeter of Triangle: 10\n"
     ]
    }
   ],
   "source": [
    "#Calculate Area\n",
    "from Triangle import triangle\n",
    "\n",
    "height =int(input(\"Height : \"))\n",
    "breadth = int(input(\"Breadth : \"))\n",
    "print(\"Area formula: (Height*Breadth)/2\")\n",
    "area = triangle.area(height,breadth)\n",
    "print(\"Area of Triangle:\",area)\n",
    "\n",
    "#Calculate Perimeter\n",
    "height1 =int(input(\"Height1 : \"))\n",
    "height2 =int(input(\"Height2 : \"))\n",
    "breadth = int(input(\"Breadth : \"))\n",
    "print(\"Perimeter formula: Height1+Height2+Breadth\")\n",
    "perimeter = triangle.perimeter(height1,height2,breadth)\n",
    "print(\"Perimeter of Triangle:\",perimeter)"
   ]
  },
  {
   "cell_type": "code",
   "execution_count": null,
   "id": "4bfa8772",
   "metadata": {},
   "outputs": [],
   "source": []
  }
 ],
 "metadata": {
  "kernelspec": {
   "display_name": "Python 3",
   "language": "python",
   "name": "python3"
  },
  "language_info": {
   "codemirror_mode": {
    "name": "ipython",
    "version": 3
   },
   "file_extension": ".py",
   "mimetype": "text/x-python",
   "name": "python",
   "nbconvert_exporter": "python",
   "pygments_lexer": "ipython3",
   "version": "3.8.8"
  }
 },
 "nbformat": 4,
 "nbformat_minor": 5
}
