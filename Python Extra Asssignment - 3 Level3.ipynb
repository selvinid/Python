{
 "cells": [
  {
   "cell_type": "code",
   "execution_count": 4,
   "id": "03eb295e",
   "metadata": {},
   "outputs": [
    {
     "name": "stdout",
     "output_type": "stream",
     "text": [
      "Enter the number : 10\n",
      "value : 10\n",
      "Correct\n"
     ]
    }
   ],
   "source": [
    "#print 'CORRECT' if i == 10\n",
    "num = int(input(\"Enter the number : \"))\n",
    "print(\"value :\",num)\n",
    "if(num==10):\n",
    "    print(\"Correct\")\n",
    "else:\n",
    "    print(\"Wrong\")\n"
   ]
  },
  {
   "cell_type": "code",
   "execution_count": 8,
   "id": "321650e7",
   "metadata": {},
   "outputs": [
    {
     "name": "stdout",
     "output_type": "stream",
     "text": [
      "Enter the password : SDFSD\n",
      "Incorrect Password\n"
     ]
    }
   ],
   "source": [
    "# Check the password, using if and else\n",
    "passwd= input(\"Enter the password : \")\n",
    "if(\"HOPE@123\" ==passwd):\n",
    "    print(\"Your password is correct\")\n",
    "else:\n",
    "    print(\"Incorrect Password\")\n"
   ]
  },
  {
   "cell_type": "code",
   "execution_count": 10,
   "id": "64bdce16",
   "metadata": {},
   "outputs": [
    {
     "name": "stdout",
     "output_type": "stream",
     "text": [
      "Enter the age : 20\n",
      "age : 20\n",
      "Adult\n"
     ]
    }
   ],
   "source": [
    "# Catagory the people by their age like children, adult, citizen, senior citizen...\n",
    "age = int(input(\"Enter the age : \"))\n",
    "print(\"age :\",age)\n",
    "\n",
    "if(age<18):\n",
    "    print(\"Children\")\n",
    "elif(age <30):\n",
    "    print(\"Adult\")\n",
    "elif(age<50):\n",
    "    print(\"Citizen\")\n",
    "elif(age>50):\n",
    "    print(\"Senior Citizen\")\n",
    "    \n",
    "    \n",
    "    "
   ]
  },
  {
   "cell_type": "code",
   "execution_count": 20,
   "id": "222eca74",
   "metadata": {},
   "outputs": [
    {
     "name": "stdout",
     "output_type": "stream",
     "text": [
      "Enter any number : 1\n",
      "No is positive\n"
     ]
    }
   ],
   "source": [
    "# Find whether given number is positive or negative\n",
    "num = float(input(\"Enter any number : \"))\n",
    "if(num<0):\n",
    "     print(\"No is negative\")\n",
    "else:\n",
    "    print(\"No is positive\")\n",
    "   "
   ]
  },
  {
   "cell_type": "code",
   "execution_count": 26,
   "id": "4ecd6d45",
   "metadata": {},
   "outputs": [
    {
     "name": "stdout",
     "output_type": "stream",
     "text": [
      "Enter a number to check :22\n",
      "No is not divisible by 5\n"
     ]
    }
   ],
   "source": [
    "# Check whether the given number is divisible by 5\n",
    "\n",
    "num_div = float(input(\"Enter a number to check :\"))\n",
    "\n",
    "if(num_div %5==0):\n",
    "     print(\"No is divisible by 5\")\n",
    "else:\n",
    "    print(\"No is not divisible by 5\")\n"
   ]
  },
  {
   "cell_type": "code",
   "execution_count": null,
   "id": "69f1e15e",
   "metadata": {},
   "outputs": [],
   "source": []
  }
 ],
 "metadata": {
  "kernelspec": {
   "display_name": "Python 3",
   "language": "python",
   "name": "python3"
  },
  "language_info": {
   "codemirror_mode": {
    "name": "ipython",
    "version": 3
   },
   "file_extension": ".py",
   "mimetype": "text/x-python",
   "name": "python",
   "nbconvert_exporter": "python",
   "pygments_lexer": "ipython3",
   "version": "3.8.8"
  }
 },
 "nbformat": 4,
 "nbformat_minor": 5
}
