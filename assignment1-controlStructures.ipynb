{
 "cells": [
  {
   "cell_type": "code",
   "execution_count": 2,
   "id": "58895957",
   "metadata": {},
   "outputs": [
    {
     "name": "stdout",
     "output_type": "stream",
     "text": [
      "Welcome to Assignment-1\n"
     ]
    }
   ],
   "source": [
    "print(\"Welcome to Assignment-1\")"
   ]
  },
  {
   "cell_type": "markdown",
   "id": "357e8e3b",
   "metadata": {},
   "source": [
    "#Addition exercise\n"
   ]
  },
  {
   "cell_type": "code",
   "execution_count": 3,
   "id": "65e678eb",
   "metadata": {},
   "outputs": [
    {
     "name": "stdout",
     "output_type": "stream",
     "text": [
      "Num1= 10\n",
      "Num2= 30\n",
      "Add= 40\n"
     ]
    }
   ],
   "source": [
    "num1 = 10\n",
    "num2 =30\n",
    "add = num1 + num2\n",
    "print(\"Num1=\",num1)\n",
    "print(\"Num2=\",num2)\n",
    "print(\"Add=\",add)"
   ]
  },
  {
   "cell_type": "markdown",
   "id": "e41b7041",
   "metadata": {},
   "source": [
    "#Body Mass Index\n",
    "#BMI = weight (kg) ÷ (height (m))2\n",
    "#How to calculate BMI BMI Weight status\n",
    "#Below 18.5 Underweight \n",
    "#18.5–24.9 Normal weight \n",
    "#25–29.9 Overweight \n",
    "#30–35 Obese\n",
    "#Over 35 Morbid obesity \n",
    "\n"
   ]
  },
  {
   "cell_type": "code",
   "execution_count": 15,
   "id": "dde6ce1a",
   "metadata": {},
   "outputs": [
    {
     "name": "stdout",
     "output_type": "stream",
     "text": [
      "Body Mass Index (BMI) Calculator\n"
     ]
    }
   ],
   "source": [
    "print(\"Body Mass Index (BMI) Calculator\")"
   ]
  },
  {
   "cell_type": "code",
   "execution_count": 16,
   "id": "e65400de",
   "metadata": {},
   "outputs": [
    {
     "name": "stdout",
     "output_type": "stream",
     "text": [
      "Enter your weight in kg:85.5\n",
      "Enter your height in meter:1.85\n",
      "Your BMI is  24.981738495252007\n",
      "Enter the BMI Index:24.98\n",
      "Normal weight\n"
     ]
    }
   ],
   "source": [
    "weight = float(input(\"Enter your weight in kg:\"))\n",
    "height = float(input(\"Enter your height in meter:\"))\n",
    "bmi = weight/(height**2)\n",
    "print(\"Your BMI is \",bmi)\n",
    "bmiIndex = float(input(\"Enter the BMI Index:\"))\n",
    "\n",
    "if(bmiIndex<18.5):\n",
    "    print(\"Underweight\")\n",
    "elif(bmiIndex<25):\n",
    "    print(\"Normal weight\")\n",
    "elif(bmiIndex<30):\n",
    "    print(\"Overweight\")\n",
    "elif(bmiIndex<35):\n",
    "    print(\"Obese\")\n",
    "elif(bmiIndex>35):\n",
    "    print(\"Morbid obesity\")\n"
   ]
  },
  {
   "cell_type": "code",
   "execution_count": null,
   "id": "b9fdae08",
   "metadata": {},
   "outputs": [],
   "source": []
  },
  {
   "cell_type": "code",
   "execution_count": null,
   "id": "c08ebb22",
   "metadata": {},
   "outputs": [],
   "source": []
  }
 ],
 "metadata": {
  "kernelspec": {
   "display_name": "Python 3",
   "language": "python",
   "name": "python3"
  },
  "language_info": {
   "codemirror_mode": {
    "name": "ipython",
    "version": 3
   },
   "file_extension": ".py",
   "mimetype": "text/x-python",
   "name": "python",
   "nbconvert_exporter": "python",
   "pygments_lexer": "ipython3",
   "version": "3.8.8"
  }
 },
 "nbformat": 4,
 "nbformat_minor": 5
}
